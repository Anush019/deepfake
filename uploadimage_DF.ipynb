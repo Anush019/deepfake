{
 "cells": [
  {
   "cell_type": "code",
   "execution_count": 8,
   "id": "a3219e51",
   "metadata": {
    "ExecuteTime": {
     "end_time": "2024-11-01T12:11:21.814540Z",
     "start_time": "2024-11-01T12:11:12.030794Z"
    }
   },
   "outputs": [],
   "source": [
    "import os\n",
    "import cv2\n",
    "import numpy as np\n",
    "import ipywidgets as widgets\n",
    "from IPython.display import display\n",
    "from transformers import pipeline"
   ]
  },
  {
   "cell_type": "code",
   "execution_count": 9,
   "id": "3f8f2075",
   "metadata": {
    "ExecuteTime": {
     "end_time": "2024-11-01T12:11:27.811209Z",
     "start_time": "2024-11-01T12:11:27.595132Z"
    }
   },
   "outputs": [],
   "source": [
    "model_path = \"./models\"  \n",
    "pipe = pipeline(\"image-classification\", model=model_path)"
   ]
  },
  {
   "cell_type": "code",
   "execution_count": 10,
   "id": "fb01a566",
   "metadata": {
    "ExecuteTime": {
     "end_time": "2024-11-01T12:11:28.782440Z",
     "start_time": "2024-11-01T12:11:28.777180Z"
    }
   },
   "outputs": [
    {
     "name": "stdout",
     "output_type": "stream",
     "text": [
      "<transformers.pipelines.image_classification.ImageClassificationPipeline object at 0x000002C519DF9C50>\n"
     ]
    }
   ],
   "source": [
    "print(pipe)"
   ]
  },
  {
   "cell_type": "code",
   "execution_count": 11,
   "id": "ead394c3",
   "metadata": {
    "ExecuteTime": {
     "end_time": "2024-11-01T12:11:29.709261Z",
     "start_time": "2024-11-01T12:11:29.703544Z"
    }
   },
   "outputs": [],
   "source": [
    "def detect_deepfake_from_image(image_array, score_threshold=0.5):\n",
    "    temp = \"temp_frame.jpg\"\n",
    "    cv2.imwrite(temp, image_array)\n",
    "\n",
    "    results = pipe(temp)\n",
    "    os.remove(temp) \n",
    "    max_score = 0\n",
    "    label = \"Unknown\"\n",
    "\n",
    "    for result in results:\n",
    "        if result['score'] > max_score:\n",
    "            max_score = result['score']\n",
    "            label = result['label']\n",
    "\n",
    "    if label == 'Fake' and max_score > score_threshold:\n",
    "        return \"Fake\", max_score\n",
    "    elif label == 'Real' and max_score > score_threshold:\n",
    "        return \"Real\", max_score\n",
    "    else:\n",
    "        return \"Unknown\", max_score"
   ]
  },
  {
   "cell_type": "code",
   "execution_count": 12,
   "id": "7e255342",
   "metadata": {
    "ExecuteTime": {
     "end_time": "2024-11-01T12:11:32.585648Z",
     "start_time": "2024-11-01T12:11:32.580276Z"
    }
   },
   "outputs": [],
   "source": [
    "def on_upload_change(change):\n",
    "    if change['new']: \n",
    "        for file_info in change['new']:\n",
    "            content = file_info['content']\n",
    "            image_array = cv2.imdecode(np.frombuffer(content, np.uint8), cv2.IMREAD_COLOR)\n",
    "\n",
    "            classification_result, confidence_score = detect_deepfake_from_image(image_array)\n",
    "\n",
    "            print(f\"Classification Result: {classification_result}\")\n",
    "            print(f\"Confidence Score: {confidence_score:.2f}\")"
   ]
  },
  {
   "cell_type": "code",
   "execution_count": 13,
   "id": "995c1a6d",
   "metadata": {
    "ExecuteTime": {
     "end_time": "2024-11-01T12:24:46.094154Z",
     "start_time": "2024-11-01T12:24:46.084256Z"
    }
   },
   "outputs": [],
   "source": [
    "upload_button = widgets.FileUpload(\n",
    "    accept='.jpg,.jpeg,.png,.mp4', \n",
    "    multiple=False  \n",
    ")"
   ]
  },
  {
   "cell_type": "code",
   "execution_count": 17,
   "id": "da8a22bf",
   "metadata": {
    "ExecuteTime": {
     "end_time": "2024-11-01T12:26:28.341300Z",
     "start_time": "2024-11-01T12:26:28.329896Z"
    }
   },
   "outputs": [
    {
     "data": {
      "application/vnd.jupyter.widget-view+json": {
       "model_id": "1a32a77877934dabbd2dabb6f242fca6",
       "version_major": 2,
       "version_minor": 0
      },
      "text/plain": [
       "FileUpload(value=({'name': 'fake img.png', 'type': 'image/png', 'size': 452955, 'content': <memory at 0x000002…"
      ]
     },
     "metadata": {},
     "output_type": "display_data"
    },
    {
     "name": "stdout",
     "output_type": "stream",
     "text": [
      "Classification Result: Real\n",
      "Confidence Score: 1.00\n",
      "Classification Result: Fake\n",
      "Confidence Score: 0.96\n"
     ]
    }
   ],
   "source": [
    "upload_button.observe(on_upload_change, names='value')\n",
    "display(upload_button)"
   ]
  },
  {
   "cell_type": "code",
   "execution_count": null,
   "id": "1e90407bcfdc8b45",
   "metadata": {},
   "outputs": [],
   "source": []
  }
 ],
 "metadata": {
  "kernelspec": {
   "display_name": "Python 3 (ipykernel)",
   "language": "python",
   "name": "python3"
  },
  "language_info": {
   "codemirror_mode": {
    "name": "ipython",
    "version": 3
   },
   "file_extension": ".py",
   "mimetype": "text/x-python",
   "name": "python",
   "nbconvert_exporter": "python",
   "pygments_lexer": "ipython3",
   "version": "3.11.5"
  }
 },
 "nbformat": 4,
 "nbformat_minor": 5
}
